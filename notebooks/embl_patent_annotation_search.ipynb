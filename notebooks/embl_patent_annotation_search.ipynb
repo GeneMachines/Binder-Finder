{
 "cells": [
  {
   "cell_type": "code",
   "execution_count": 166,
   "metadata": {
    "collapsed": true
   },
   "outputs": [],
   "source": [
    "%matplotlib inline\n",
    "\n",
    "import re\n",
    "import pandas as pd\n",
    "import numpy as np\n",
    "import matplotlib as mpl\n",
    "from Bio import SeqIO\n",
    "from pprint import pprint"
   ]
  },
  {
   "cell_type": "code",
   "execution_count": 167,
   "metadata": {
    "collapsed": true
   },
   "outputs": [],
   "source": [
    "annot_handle = \"/Users/j.parker/data/databases/annotations/10M_nrpl2-annots.embl\""
   ]
  },
  {
   "cell_type": "code",
   "execution_count": null,
   "metadata": {
    "collapsed": false
   },
   "outputs": [],
   "source": [
    "annots = []\n",
    "\n",
    "for annot in SeqIO.parse(annot_handle, \"embl\"):\n",
    "    annots.append(annot)"
   ]
  },
  {
   "cell_type": "code",
   "execution_count": null,
   "metadata": {
    "collapsed": false
   },
   "outputs": [],
   "source": [
    "a1 = annots[10]\n",
    "print (a1)"
   ]
  },
  {
   "cell_type": "code",
   "execution_count": null,
   "metadata": {
    "collapsed": false
   },
   "outputs": [],
   "source": [
    "for annot in annots:\n",
    "    print(annot.description)"
   ]
  },
  {
   "cell_type": "code",
   "execution_count": null,
   "metadata": {
    "collapsed": true
   },
   "outputs": [],
   "source": [
    "test_patent_ids = ['3930983', '3932141', '3933818', '3933997', '3935074', '3949064', '3951605', '3951748', '3951776', '3952091', '3956477', '3959456', '3960827', '3963691', '3964467', '3966906', '3970597', '3974269', '3975342', '3980764', '3983000', '3984533', '3988430', '3990946', '3995019']\n"
   ]
  },
  {
   "cell_type": "code",
   "execution_count": null,
   "metadata": {
    "collapsed": false
   },
   "outputs": [],
   "source": [
    "us_pns = []\n",
    "\n",
    "for annot in annots:\n",
    "    matches = re.findall('US\\s?\\d{7}', annot.description)\n",
    "    if matches:\n",
    "        #print (annot.description)\n",
    "        for pn in matches:\n",
    "            #print(\"\\t\\t\\t\", \"\".join(pn.split()))\n",
    "            us_pns.append(pn)\n",
    "        #print(\"\\n\")"
   ]
  },
  {
   "cell_type": "code",
   "execution_count": null,
   "metadata": {
    "collapsed": false
   },
   "outputs": [],
   "source": [
    "for pn in us_pns:\n",
    "    if pn in test_patent_ids:\n",
    "        print (pn)"
   ]
  },
  {
   "cell_type": "code",
   "execution_count": null,
   "metadata": {
    "collapsed": false
   },
   "outputs": [],
   "source": [
    "uspop_handle = \"/Users/j.parker/data/databases/patent_data/uspo/uspto_prt.dat\"\n",
    "\n",
    "us_annots = []\n",
    "for annot in SeqIO.parse(annot_handle, \"embl\"):\n",
    "    us_annots.append(annot)"
   ]
  },
  {
   "cell_type": "code",
   "execution_count": null,
   "metadata": {
    "collapsed": false
   },
   "outputs": [],
   "source": [
    "a1 = us_annots[10]\n",
    "print (a1)"
   ]
  },
  {
   "cell_type": "code",
   "execution_count": null,
   "metadata": {
    "collapsed": true
   },
   "outputs": [],
   "source": [
    "def extract_pns(annots, district=\"[A-Z][A-Z]\"):\n",
    "    \"\"\"\n",
    "    Extract patent numbers from the patent descriptions. \n",
    "    Enter district code for patents of a specific region, otherwise defaults to all.\n",
    "    \"\"\"\n",
    "    pns = {}\n",
    "    for annot in annots:\n",
    "        matches = re.findall(district+'\\s?\\d+', annot.description)\n",
    "        if matches:\n",
    "            pns[annot.id] = []\n",
    "            for pn in matches:\n",
    "                 pns[annot.id].append(\"\".join(pn.split()))\n",
    "    \n",
    "    return pns"
   ]
  },
  {
   "cell_type": "code",
   "execution_count": null,
   "metadata": {
    "collapsed": false
   },
   "outputs": [],
   "source": [
    "pns = extract_pns(us_annots, )\n",
    "print(len(pns.keys()))"
   ]
  },
  {
   "cell_type": "code",
   "execution_count": null,
   "metadata": {
    "collapsed": false
   },
   "outputs": [],
   "source": [
    "for patent, numbers in pns.items():\n",
    "    for num in numbers:\n",
    "        #print(num[2:])\n",
    "        if num[2:] in test_patent_ids:\n",
    "            print (patent)\n",
    "        else:\n",
    "            pass"
   ]
  },
  {
   "cell_type": "code",
   "execution_count": null,
   "metadata": {
    "collapsed": false
   },
   "outputs": [],
   "source": [
    "import random\n",
    "testies = random.choice(list(pns.items()))4"
   ]
  },
  {
   "cell_type": "code",
   "execution_count": null,
   "metadata": {
    "collapsed": true
   },
   "outputs": [],
   "source": []
  }
 ],
 "metadata": {
  "kernelspec": {
   "display_name": "Python 3",
   "language": "python",
   "name": "python3"
  },
  "language_info": {
   "codemirror_mode": {
    "name": "ipython",
    "version": 3
   },
   "file_extension": ".py",
   "mimetype": "text/x-python",
   "name": "python",
   "nbconvert_exporter": "python",
   "pygments_lexer": "ipython3",
   "version": "3.5.2"
  }
 },
 "nbformat": 4,
 "nbformat_minor": 0
}
