{
 "cells": [
  {
   "cell_type": "code",
   "execution_count": 51,
   "metadata": {
    "collapsed": true
   },
   "outputs": [],
   "source": [
    "import requests\n",
    "import urllib\n",
    "import time\n",
    "import json\n",
    "from pprint import pprint"
   ]
  },
  {
   "cell_type": "code",
   "execution_count": 52,
   "metadata": {
    "collapsed": false
   },
   "outputs": [],
   "source": [
    "# get list of patent ids containing a sequence with the vset domain\n",
    "vhh_ids_handle = \"/Users/j.parker/working_dir/filter_binders/vset/patent-vsets.ids\"\n",
    "\n",
    "vhh_ids = [line.strip() for line in open(vhh_ids_handle, \"r\")]"
   ]
  },
  {
   "cell_type": "code",
   "execution_count": 53,
   "metadata": {
    "collapsed": false
   },
   "outputs": [],
   "source": [
    "# extract just the US patent numbers\n",
    "us_ids = [x.strip(\"US\") for x in vhh_ids if \"US\" in x]"
   ]
  },
  {
   "cell_type": "code",
   "execution_count": 92,
   "metadata": {
    "collapsed": false
   },
   "outputs": [],
   "source": [
    "# Build url\n",
    "query_string = \"albumin\"\n",
    "\n",
    "domain = 'http://www.patentsview.org/api/patents/'\n",
    "query = 'query?q={\"_text_any\":{\"patent_abstract\":\"%s\"}}' % (query_string)\n",
    "options = '&o={\"page\":1,\"per_page\":10000}'\n",
    "form = '&f=[\"patent_number\",\"patent_title\",\"patent_abstract\"]'\n",
    "\n",
    "url = domain + query + options + form"
   ]
  },
  {
   "cell_type": "code",
   "execution_count": 93,
   "metadata": {
    "collapsed": false
   },
   "outputs": [],
   "source": [
    "# query patent view\n",
    "response = requests.get(url)"
   ]
  },
  {
   "cell_type": "code",
   "execution_count": 94,
   "metadata": {
    "collapsed": false
   },
   "outputs": [
    {
     "name": "stdout",
     "output_type": "stream",
     "text": [
      "Number of hits for 'albumin':  1259\n"
     ]
    }
   ],
   "source": [
    "# display sample of results?\n",
    "sample_of_results = False\n",
    "\n",
    "if response.status_code != 200:\n",
    "    print(\"Returned error with status code: {}\".format(response.status_code))\n",
    "else:\n",
    "    # number of hits\n",
    "    print (\"Number of hits for '{}': \".format(query_string), response.json()['count'])\n",
    "    patent_ids = {}\n",
    "    for i, entry in enumerate(response.json()[\"patents\"]):\n",
    "        if sample_of_results and i < 5:\n",
    "            pprint(entry)\n",
    "        patent_ids[entry[\"patent_number\"]] = entry"
   ]
  },
  {
   "cell_type": "code",
   "execution_count": 95,
   "metadata": {
    "collapsed": false
   },
   "outputs": [
    {
     "data": {
      "text/plain": [
       "False"
      ]
     },
     "execution_count": 95,
     "metadata": {},
     "output_type": "execute_result"
    }
   ],
   "source": [
    "'13098851' in patent_ids.keys()"
   ]
  },
  {
   "cell_type": "code",
   "execution_count": 73,
   "metadata": {
    "collapsed": false
   },
   "outputs": [],
   "source": [
    "# filter for unique results which have both the annotation and domain of interest\n",
    "unique_results = []\n",
    "for ID in us_ids:\n",
    "    if ID in patent_ids.keys() and patent_ids[ID] not in unique_results:\n",
    "        unique_results.append(patent_ids[ID])"
   ]
  },
  {
   "cell_type": "code",
   "execution_count": 74,
   "metadata": {
    "collapsed": false
   },
   "outputs": [
    {
     "name": "stdout",
     "output_type": "stream",
     "text": [
      "Number of unique hits containing 'hsa' and the vset domain:  1\n"
     ]
    }
   ],
   "source": [
    "print (\"Number of unique hits containing '{}' and the vset domain: \".format(query_string), \n",
    "       len(unique_results))"
   ]
  },
  {
   "cell_type": "code",
   "execution_count": 68,
   "metadata": {
    "collapsed": false
   },
   "outputs": [
    {
     "data": {
      "text/plain": [
       "{'patent_abstract': 'Fusion polypeptides and salts thereof comprising at least one IgE-binding domain fused to at least one human serum albumin component, optionally via a peptide linker, and in particular, dimeric fusion polypeptides comprising HSA protein fused, at each of its amino and carboxy termini, to an extracellular domain of the &agr;-chain of the human high affinity receptor for IgE (Fc&egr;RI&agr;); process for the preparation thereof, functionally equivalent polypeptides which are intermediates in their preparation, and polynucleotide and oligonucleotide intermediates and vectors therefor. They are indicated for use in the prevention and/or treatment of IgE-mediated allergic diseases and related disorders such as atopic dermatitis, atopic asthma and chronic urticaria.',\n",
       " 'patent_number': '6423512',\n",
       " 'patent_title': 'Fusion polypeptides'}"
      ]
     },
     "execution_count": 68,
     "metadata": {},
     "output_type": "execute_result"
    }
   ],
   "source": [
    "unique_results[0]"
   ]
  },
  {
   "cell_type": "code",
   "execution_count": null,
   "metadata": {
    "collapsed": true
   },
   "outputs": [],
   "source": []
  }
 ],
 "metadata": {
  "kernelspec": {
   "display_name": "Python 3",
   "language": "python",
   "name": "python3"
  },
  "language_info": {
   "codemirror_mode": {
    "name": "ipython",
    "version": 3
   },
   "file_extension": ".py",
   "mimetype": "text/x-python",
   "name": "python",
   "nbconvert_exporter": "python",
   "pygments_lexer": "ipython3",
   "version": "3.5.2"
  }
 },
 "nbformat": 4,
 "nbformat_minor": 0
}
