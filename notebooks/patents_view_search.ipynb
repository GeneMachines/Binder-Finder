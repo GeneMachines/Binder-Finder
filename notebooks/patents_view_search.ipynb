{
 "cells": [
  {
   "cell_type": "code",
   "execution_count": 1,
   "metadata": {
    "collapsed": true
   },
   "outputs": [],
   "source": [
    "import requests\n",
    "import urllib\n",
    "import time\n",
    "import json\n",
    "from pprint import pprint"
   ]
  },
  {
   "cell_type": "code",
   "execution_count": 5,
   "metadata": {
    "collapsed": false
   },
   "outputs": [],
   "source": [
    "# Build url\n",
    "query_string = str(\"antibodies\")\n",
    "url = 'http://www.patentsview.org/api/patents/query?q=' + \\\n",
    "        '{\"_text_any\":{\"patent_abstract\":\"antibodies\"}}' + '&o={\"page\":1,\"per_page\":10000}'"
   ]
  },
  {
   "cell_type": "code",
   "execution_count": 6,
   "metadata": {
    "collapsed": true
   },
   "outputs": [],
   "source": [
    "response = requests.get(url)"
   ]
  },
  {
   "cell_type": "code",
   "execution_count": 7,
   "metadata": {
    "collapsed": false
   },
   "outputs": [
    {
     "name": "stdout",
     "output_type": "stream",
     "text": [
      "10000\n",
      "{'patent_id': '3930983',\n",
      " 'patent_number': '3930983',\n",
      " 'patent_title': 'Arrangement and process for determining antigens'}\n",
      "{'patent_id': '3932141',\n",
      " 'patent_number': '3932141',\n",
      " 'patent_title': 'Apparatus for determining immunoassays of antigens and their '\n",
      "                 'antibodies'}\n",
      "{'patent_id': '3933818',\n",
      " 'patent_number': '3933818',\n",
      " 'patent_title': 'Heterocyclic compounds'}\n",
      "{'patent_id': '3933997',\n",
      " 'patent_number': '3933997',\n",
      " 'patent_title': 'Solid phase radioimmunoassay of digoxin'}\n",
      "{'patent_id': '3935074',\n",
      " 'patent_number': '3935074',\n",
      " 'patent_title': 'Antibody steric hindrance immunoassay with two antibodies'}\n",
      "{'patent_id': '3949064',\n",
      " 'patent_number': '3949064',\n",
      " 'patent_title': 'Method of detecting antigens or antibodies'}\n",
      "{'patent_id': '3951605',\n",
      " 'patent_number': '3951605',\n",
      " 'patent_title': 'Instrument for automated immunochemical analysis'}\n",
      "{'patent_id': '3951748',\n",
      " 'patent_number': '3951748',\n",
      " 'patent_title': 'Sensitized matrix for detection of disease'}\n",
      "{'patent_id': '3951776',\n",
      " 'patent_number': '3951776',\n",
      " 'patent_title': 'Low-voltage cross migration electrophoresis apparatus'}\n",
      "{'patent_id': '3952091',\n",
      " 'patent_number': '3952091',\n",
      " 'patent_title': 'Simultaneous multiple radioimmunoassay'}\n",
      "{'patent_id': '3956477',\n",
      " 'patent_number': '3956477',\n",
      " 'patent_title': 'Method and erythrocyte preparation for reverse blood '\n",
      "                 'grouping'}\n",
      "{'patent_id': '3959456',\n",
      " 'patent_number': '3959456',\n",
      " 'patent_title': 'Diagnostic slide test for infectious mononucleosis'}\n",
      "{'patent_id': '3960827',\n",
      " 'patent_number': '3960827',\n",
      " 'patent_title': 'Cancer associated polypeptide antigen, process for its '\n",
      "                 'preparation, process for preparing antibodies, process of '\n",
      "                 'cancer diagnosis and composition useful as an immunizing '\n",
      "                 'agent'}\n",
      "{'patent_id': '3963691',\n",
      " 'patent_number': '3963691',\n",
      " 'patent_title': 'Synthetic antigens of luteinizing hormone releasing hormone'}\n",
      "{'patent_id': '3964467',\n",
      " 'patent_number': '3964467',\n",
      " 'patent_title': 'Methods and apparatus for augmentation of the production of '\n",
      "                 'anti-bodies in animals and humans and the collection thereof'}\n",
      "{'patent_id': '3966906',\n",
      " 'patent_number': '3966906',\n",
      " 'patent_title': 'Disaggregated gamma globulin and process for preparing it'}\n",
      "{'patent_id': '3970597',\n",
      " 'patent_number': '3970597',\n",
      " 'patent_title': 'Novel substituted polyamides and process for producing them'}\n",
      "{'patent_id': '3974269',\n",
      " 'patent_number': '3974269',\n",
      " 'patent_title': 'Radioimmune assay method for detection of gonorrhea '\n",
      "                 'antibodies'}\n",
      "{'patent_id': '3975342',\n",
      " 'patent_number': '3975342',\n",
      " 'patent_title': 'Tyrosyl-class antigenic conjugates, their preparation and '\n",
      "                 'antibodies raised thereto'}\n",
      "{'patent_id': '3980764',\n",
      " 'patent_number': '3980764',\n",
      " 'patent_title': 'Polymeric competitive protein binding adsorbents for '\n",
      "                 'radioassey'}\n",
      "{'patent_id': '3983000',\n",
      " 'patent_number': '3983000',\n",
      " 'patent_title': 'Bonding proteins to inorganic supports'}\n",
      "{'patent_id': '3984533',\n",
      " 'patent_number': '3984533',\n",
      " 'patent_title': 'Electrophoretic method of detecting antigen-antibody '\n",
      "                 'reaction'}\n",
      "{'patent_id': '3988430',\n",
      " 'patent_number': '3988430',\n",
      " 'patent_title': 'Immunoassay of antipyrine'}\n",
      "{'patent_id': '3990946',\n",
      " 'patent_number': '3990946',\n",
      " 'patent_title': 'Substrate for the determination of desoxy-ribonuclease'}\n",
      "{'patent_id': '3995019',\n",
      " 'patent_number': '3995019',\n",
      " 'patent_title': 'Diagnostic reagent system'}\n"
     ]
    }
   ],
   "source": [
    "print (response.json()['count'])\n",
    "\n",
    "patent_ids = []\n",
    "for entry in response.json()[\"patents\"][:25]:\n",
    "    pprint(entry)\n",
    "    patent_ids.append(entry[\"patent_number\"])"
   ]
  },
  {
   "cell_type": "code",
   "execution_count": 8,
   "metadata": {
    "collapsed": false
   },
   "outputs": [
    {
     "name": "stdout",
     "output_type": "stream",
     "text": [
      "['3930983', '3932141', '3933818', '3933997', '3935074', '3949064', '3951605', '3951748', '3951776', '3952091', '3956477', '3959456', '3960827', '3963691', '3964467', '3966906', '3970597', '3974269', '3975342', '3980764', '3983000', '3984533', '3988430', '3990946', '3995019']\n"
     ]
    }
   ],
   "source": [
    "print (patent_ids)"
   ]
  },
  {
   "cell_type": "code",
   "execution_count": null,
   "metadata": {
    "collapsed": true
   },
   "outputs": [],
   "source": []
  }
 ],
 "metadata": {
  "kernelspec": {
   "display_name": "Python 3",
   "language": "python",
   "name": "python3"
  },
  "language_info": {
   "codemirror_mode": {
    "name": "ipython",
    "version": 3
   },
   "file_extension": ".py",
   "mimetype": "text/x-python",
   "name": "python",
   "nbconvert_exporter": "python",
   "pygments_lexer": "ipython3",
   "version": "3.5.2"
  }
 },
 "nbformat": 4,
 "nbformat_minor": 0
}
