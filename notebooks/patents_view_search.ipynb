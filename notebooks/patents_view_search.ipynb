{
 "cells": [
  {
   "cell_type": "code",
   "execution_count": 1,
   "metadata": {
    "collapsed": true
   },
   "outputs": [],
   "source": [
    "import requests\n",
    "import urllib\n",
    "import time\n",
    "import json\n",
    "from pprint import pprint"
   ]
  },
  {
   "cell_type": "code",
   "execution_count": 2,
   "metadata": {
    "collapsed": false
   },
   "outputs": [],
   "source": [
    "# get list of patent ids containing a sequence with the vset domain\n",
    "vhh_ids_handle = \"/Users/j.parker/working_dir/filter_binders/vset/patent-vsets.ids\"\n",
    "\n",
    "vhh_ids = [line.strip() for line in open(vhh_ids_handle, \"r\")]"
   ]
  },
  {
   "cell_type": "code",
   "execution_count": 3,
   "metadata": {
    "collapsed": false
   },
   "outputs": [],
   "source": [
    "# extract just the US patent numbers\n",
    "us_ids = [x.strip(\"US\") for x in vhh_ids if \"US\" in x]"
   ]
  },
  {
   "cell_type": "code",
   "execution_count": 4,
   "metadata": {
    "collapsed": false
   },
   "outputs": [],
   "source": [
    "# Build url\n",
    "query_string = \"albumin\"\n",
    "\n",
    "domain = 'http://www.patentsview.org/api/patents/'\n",
    "query = 'query?q={\"_text_any\":{\"patent_abstract\":\"%s\"}}' % (query_string)\n",
    "options = '&o={\"page\":1,\"per_page\":10000}'\n",
    "form = '&f=[\"patent_number\",\"patent_title\",\"patent_abstract\"]'\n",
    "\n",
    "url = domain + query + options + form"
   ]
  },
  {
   "cell_type": "code",
   "execution_count": 5,
   "metadata": {
    "collapsed": false
   },
   "outputs": [],
   "source": [
    "# query patent view\n",
    "response = requests.get(url)"
   ]
  },
  {
   "cell_type": "code",
   "execution_count": 6,
   "metadata": {
    "collapsed": false
   },
   "outputs": [
    {
     "name": "stdout",
     "output_type": "stream",
     "text": [
      "Number of hits for 'albumin':  1259\n"
     ]
    }
   ],
   "source": [
    "# display sample of results?\n",
    "sample_of_results = False\n",
    "\n",
    "if response.status_code != 200:\n",
    "    print(\"Returned error with status code: {}\".format(response.status_code))\n",
    "else:\n",
    "    # number of hits\n",
    "    print (\"Number of hits for '{}': \".format(query_string), response.json()['count'])\n",
    "    patent_ids = {}\n",
    "    for i, entry in enumerate(response.json()[\"patents\"]):\n",
    "        if sample_of_results and i < 5:\n",
    "            pprint(entry)\n",
    "        patent_ids[entry[\"patent_number\"]] = entry"
   ]
  },
  {
   "cell_type": "code",
   "execution_count": 7,
   "metadata": {
    "collapsed": false
   },
   "outputs": [
    {
     "data": {
      "text/plain": [
       "False"
      ]
     },
     "execution_count": 7,
     "metadata": {},
     "output_type": "execute_result"
    }
   ],
   "source": [
    "'13098851' in patent_ids.keys()"
   ]
  },
  {
   "cell_type": "code",
   "execution_count": 73,
   "metadata": {
    "collapsed": false
   },
   "outputs": [],
   "source": [
    "# filter for unique results which have both the annotation and domain of interest\n",
    "unique_results = []\n",
    "for ID in us_ids:\n",
    "    if ID in patent_ids.keys() and patent_ids[ID] not in unique_results:\n",
    "        unique_results.append(patent_ids[ID])"
   ]
  },
  {
   "cell_type": "code",
   "execution_count": 74,
   "metadata": {
    "collapsed": false
   },
   "outputs": [
    {
     "name": "stdout",
     "output_type": "stream",
     "text": [
      "Number of unique hits containing 'hsa' and the vset domain:  1\n"
     ]
    }
   ],
   "source": [
    "print (\"Number of unique hits containing '{}' and the vset domain: \".format(query_string), \n",
    "       len(unique_results))"
   ]
  },
  {
   "cell_type": "code",
   "execution_count": 68,
   "metadata": {
    "collapsed": false
   },
   "outputs": [
    {
     "data": {
      "text/plain": [
       "{'patent_abstract': 'Fusion polypeptides and salts thereof comprising at least one IgE-binding domain fused to at least one human serum albumin component, optionally via a peptide linker, and in particular, dimeric fusion polypeptides comprising HSA protein fused, at each of its amino and carboxy termini, to an extracellular domain of the &agr;-chain of the human high affinity receptor for IgE (Fc&egr;RI&agr;); process for the preparation thereof, functionally equivalent polypeptides which are intermediates in their preparation, and polynucleotide and oligonucleotide intermediates and vectors therefor. They are indicated for use in the prevention and/or treatment of IgE-mediated allergic diseases and related disorders such as atopic dermatitis, atopic asthma and chronic urticaria.',\n",
       " 'patent_number': '6423512',\n",
       " 'patent_title': 'Fusion polypeptides'}"
      ]
     },
     "execution_count": 68,
     "metadata": {},
     "output_type": "execute_result"
    }
   ],
   "source": [
    "unique_results[0]"
   ]
  },
  {
   "cell_type": "code",
   "execution_count": 30,
   "metadata": {
    "collapsed": false
   },
   "outputs": [
    {
     "name": "stdout",
     "output_type": "stream",
     "text": [
      "dict_values(['The stability of fibrinogen is improved by mixing it with albumin, preferably at least 5 parts by weight of albumin per part by weight of fibrinogen. By this invention, iodinated (.sup.125 I) human fibrinogen can be stabilised with human serum albumin for use in the diagnosis of thrombi.', '3933996', 'Composition comprising radioactive labeled-fibrinogen and albumin'])\n",
      "dict_values(['\" Media for supporting the growth of certain types of microorganisims, especially Neisseria gonorrhoeae and Neisseria meningitidis, are described. These media, when supplemented with polyvinylpyrrolidone (PVP), albumin and penicillin induce microorganism transformation to the wall-defective or \"\"L-form.\"\" The PVP is necessarily \"\"detoxified\"\" for use in the L-form inducing media. \"', '3936355', 'Microorganism growth media and the stabilization thereof'])\n",
      "dict_values(['The subject matter of this invention is a process for solid albumin particles so that such spheric particles may act as a carrier for radioactivity, drugs, insecticides, dyes, metal salts, etc. In order to prepare such spheric particles, the substance to be incorporated therein is transformed into a precipitate. This precipitate is then mixed with an aqueous solution of albumin. The mixture thus prepared is then injected into cotton seed oil while stirring so as to obtain a fine dispersion of the albumin droplets and the precipitate in the oil, then the mixture is heated above 100.degree.C to evaporate water and to form spheric albumin particles having the precipitate encapsulated therein.', '3937668', 'Method for incorporating substances into protein microspheres'])\n",
      "dict_values(['A capsule containing albumin, preferably egg albumin, is disclosed. The contents of the capsule may be dissolved in water to form a parting solution useful in rotogravure printing. The solution is used to prevent bonding of an electro-deposited copper ballard shell onto the base cylinder and to facilitate easy removal of the shell once the printing run is completed.', '3947330', 'Method of electrodeposition'])\n",
      "dict_values(['A method of fractionating coagulation factor-depleted blood serum or plasma by selective precipitation with block copolymers of ethylene oxide and polyoxypropylene polymer to provide immunoglobulin preparations, albumin-containing fractions and organ perfusates.', '3956259', 'Fractionation of blood using block copolymer of ethylene oxide and polyoxypropylene polymer to recover fraction suitable for organ perfusate'])\n",
      "dict_values(['A process for the fractionation of liquid solutions of protein mixtures which includes the steps of subjecting such solutions to electrodialysis in the pH range 4.8 to 6, until desalting of the solution commences, said electrodialysis being conducted at temperatures below 15.degree.C; and continuing said electrodialysis until the specific resistance of the mixture exceeds 1000 ohm-cm whereby a fraction of said protein mixture precipitates; and recovering the dialysate. Another aspect of the invention is an albumin concentrate for use in the preparation of plasma extenders, having at least 90% albumin, free from salts, euglobulins and euglobulin-like materials.', '3972791', 'Fractionation of proteins by electrical means'])\n",
      "dict_values(['A sensitive radioimmunoassay for chlorpromazine is described. To prepare the chlorpromazine selective antiserum, an antigen is made comprising chlorpromazine covalently bonded to an immunogenic carrier material through a diazo containing linking group and the antigen is injected into a suitable host mammal to elicit the desired antiserum. A preferred linking group is diazophenylcarbonyl while bovine serum albumin is a preferred immunogenic carrier material.', '3976763', 'Chlorpromazine assay'])\n",
      "dict_values(['A hyaluronic acid-enriched mycobacteria culture medium whose base is either Dubos oleic acid-albumin liquid medium or a physiological mixture of fresh yeast extract in a phosphate buffer of pH 5.5 to 7 optionally containing bovine serum albumin, glycerine, a contaminating organism-growth inhibitory antibiotic, and a gelatinizing agent to solidify the culture medium for plate use. The culture medium has particular utility for the in vitro cultivation of leprosy mycobacteria, which exhibit prolific growth when inoculated and maintained in such culture medium at temperatures within the range of about 25.degree.C to about 37.5.degree.C.', '3983003', 'Mycobacteria culture medium and method for in vitro cultivation of leprosy mycobacteria employing same'])\n",
      "dict_values(['Novel haptenes of the formula ##SPC1## Wherein when X is hydrogen, Y is =N-O-(CH.sub.2).sub.a --COOH and a is a whole number of 1 to 12 and when ##EQU1## X is hemiterephthaloyloxy in the .alpha.- or .beta.-position and antigens prepared therefrom by condensation with beef serum albumin.', '3988356', 'Novel haptenes and antigens'])\n",
      "dict_values(['Purified albumin is prepared from an albumin solution containing foreign or denatured proteins by heating the solution in the presence of caprylic acid at a pH of 4.8 - 5.25 at a temperature between 50.degree. - 64.degree. C. The amount of caprylic acid expressed in weight of sodium caprylate is between 15 - 30% by weight of the proteins in said solution.', '3992367', 'Process for the preparation of purified albumin by thermocoagulation and albumin obtained by said process'])\n"
     ]
    }
   ],
   "source": [
    "for res in response.json()[\"patents\"][:10]:\n",
    "    print (res.values())"
   ]
  },
  {
   "cell_type": "code",
   "execution_count": null,
   "metadata": {
    "collapsed": true
   },
   "outputs": [],
   "source": []
  }
 ],
 "metadata": {
  "kernelspec": {
   "display_name": "Python 3",
   "language": "python",
   "name": "python3"
  },
  "language_info": {
   "codemirror_mode": {
    "name": "ipython",
    "version": 3
   },
   "file_extension": ".py",
   "mimetype": "text/x-python",
   "name": "python",
   "nbconvert_exporter": "python",
   "pygments_lexer": "ipython3",
   "version": "3.5.2"
  }
 },
 "nbformat": 4,
 "nbformat_minor": 0
}
