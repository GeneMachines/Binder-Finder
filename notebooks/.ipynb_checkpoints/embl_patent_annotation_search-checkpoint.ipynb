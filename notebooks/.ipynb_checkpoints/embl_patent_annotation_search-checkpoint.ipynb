{
 "cells": [
  {
   "cell_type": "code",
   "execution_count": 42,
   "metadata": {
    "collapsed": true
   },
   "outputs": [],
   "source": [
    "%matplotlib inline\n",
    "\n",
    "import re\n",
    "import pandas as pd\n",
    "import numpy as np\n",
    "import matplotlib as mpl\n",
    "from Bio import SeqIO\n",
    "from pprint import pprint"
   ]
  },
  {
   "cell_type": "code",
   "execution_count": 47,
   "metadata": {
    "collapsed": true
   },
   "outputs": [],
   "source": [
    "annot_handle = \"/Users/j.parker/data/databases/annotations/10M_nrpl2-annots.embl\""
   ]
  },
  {
   "cell_type": "code",
   "execution_count": 49,
   "metadata": {
    "collapsed": false
   },
   "outputs": [],
   "source": [
    "annots = []\n",
    "\n",
    "for annot in SeqIO.parse(annot_handle, \"embl\"):\n",
    "    annots.append(annot)"
   ]
  },
  {
   "cell_type": "code",
   "execution_count": 50,
   "metadata": {
    "collapsed": false
   },
   "outputs": [
    {
     "name": "stdout",
     "output_type": "stream",
     "text": [
      "ID: NRP001A2FB3\n",
      "Name: NRP001A2FB3\n",
      "Description: Sequence 8 from Patent WO0166565. Sequence 8 from patent US 7105341. Sequence 8 from patent US 7208571.\n",
      "Database cross-references: EPOP:AX249800:, USPOP:ABJ39141:, USPOP:ABT00979:\n",
      "Number of features: 0\n",
      "/data_file_division= NR2\n",
      "/comment=First level of publication supplied by the EPO\n",
      "First level of publication supplied by the EPO\n",
      "UnknownSeq(456, alphabet = IUPACProtein(), character = 'X')\n"
     ]
    }
   ],
   "source": [
    "a1 = annots[10]\n",
    "print (a1)"
   ]
  },
  {
   "cell_type": "code",
   "execution_count": 37,
   "metadata": {
    "collapsed": false
   },
   "outputs": [
    {
     "name": "stdout",
     "output_type": "stream",
     "text": [
      "Sequence 74 from Patent WO9954462.\n",
      "Sequence 5006 from Patent WO0190366.\n",
      "Sequence 1 from Patent WO03020945. Sequence 1 from patent US 7294486.\n",
      "Sequence 7 from Patent WO2004078914.\n",
      "Sequence 13 from Patent WO0164908. Sequence 12 from patent US 6864078. Sequence 13 from patent US 7198929.\n",
      "Sequence 24 from Patent WO0168678. Sequence 24 from patent US 6632616.\n",
      "Sequence 1428 from Patent WO0142276.\n",
      "Sequence 72 from Patent WO02090991.\n",
      "Sequence 1 from Patent WO03083482.\n",
      "Sequence 2 from Patent WO03078566.\n",
      "Sequence 8 from Patent WO0166565. Sequence 8 from patent US 7105341. Sequence 8 from patent US 7208571.\n",
      "Sequence 8 from patent US 6481667.\n",
      "Sequence 8 from patent US 7378248.\n",
      "Sequence 63 from Patent WO0185961. Sequence 63 from patent US 6833248.\n",
      "Sequence 1097 from Patent WO02092818. Sequence 3237 from Patent WO02092818.\n",
      "Sequence 72 from Patent WO0136481. Sequence 72 from patent US 6462178.\n",
      "Sequence 175 from Patent WO0233089. Sequence 175 from patent US 7078508.\n",
      "Sequence 3522 from Patent WO0190366.\n",
      "Sequence 84 from Patent WO0166752.\n",
      "Sequence 23294 from Patent EP2052088.\n",
      "Sequence 2488 from Patent WO02066501.\n",
      "Sequence 2207 from Patent WO02090544.\n",
      "Sequence 3796 from patent US 6943241.\n",
      "Sequence 3796 from Patent EP1308459.\n",
      "Sequence 2740 from Patent WO02086122.\n",
      "Sequence 2934 from Patent WO0142277.\n",
      "Synthetic HIV-1 hxb2 gag peptide\n",
      "Synthetic pharmaceutical peptide\n",
      "Sequence 1572 from Patent WO0190366.\n",
      "Sequence 37 from Patent WO9954470.\n",
      "Sequence 427 from Patent WO0142277. Sequence 437 from Patent WO0142277.\n",
      "Sequence 13 from Patent WO0100667.\n",
      "Sequence 16 from Patent WO02054081.\n",
      "Sequence 10 from Patent WO0149728.\n",
      "Sequence 2242 from Patent WO02061087.\n",
      "Sequence 225 from Patent EP0947582.\n",
      "Sequence 24 from Patent WO03006497.\n",
      "Sequence 46 from Patent WO0072868.\n",
      "E.coli 2-L-Hydroxyisocarbonicacid-Dehydrogenase enzyme\n",
      "Sequence 130 from Patent WO0240672. Sequence 130 from patent US 6855517.\n",
      "Humanized monoclonal antibody FR-3\n",
      "Sequence 40 from Patent WO0136980.\n",
      "Sequence 36 from Patent WO0075340. Sequence 36 from patent US 6570063.\n",
      "Sequence 1590 from Patent WO0134809.\n",
      "Sequence 1590 from patent US 6703492.\n",
      "Sequence 35 from Patent WO0202637.\n",
      "Sequence 105 from Patent WO9853322. Sequence 105 from patent US 7018791.\n",
      "Sequence 40 from patent US 6560542.\n",
      "Sequence 40 from Patent WO02072614. Sequence 40 from patent US 6865492. Sequence 40 from patent US 7228238.\n",
      "Sequence 43 from Patent WO0190149.\n"
     ]
    }
   ],
   "source": [
    "for annot in annots:\n",
    "    print(annot.description)"
   ]
  },
  {
   "cell_type": "code",
   "execution_count": 51,
   "metadata": {
    "collapsed": true
   },
   "outputs": [],
   "source": [
    "test_patent_ids = ['3980638', '4002747', '4008311', '4031117', '4059630', '4083973', '4085202', '4088760', '4098802', \n",
    "                   '4147783', '4156427', '4175006', '4186198', '4191759', '4197286', '4214051', '4214052', '4220599', \n",
    "                   '4221868', '4223092', '4226936', '4239782', '4268441', '4311690', '4317817']"
   ]
  },
  {
   "cell_type": "code",
   "execution_count": 52,
   "metadata": {
    "collapsed": false
   },
   "outputs": [],
   "source": [
    "us_pns = []\n",
    "\n",
    "for annot in annots:\n",
    "    matches = re.findall('US\\s?\\d{7}', annot.description)\n",
    "    if matches:\n",
    "        #print (annot.description)\n",
    "        for pn in matches:\n",
    "            #print(\"\\t\\t\\t\", \"\".join(pn.split()))\n",
    "            us_pns.append(pn)\n",
    "        #print(\"\\n\")"
   ]
  },
  {
   "cell_type": "code",
   "execution_count": 55,
   "metadata": {
    "collapsed": false
   },
   "outputs": [],
   "source": [
    "for pn in us_pns:\n",
    "    if pn in test_patent_ids:\n",
    "        print (pn)"
   ]
  },
  {
   "cell_type": "code",
   "execution_count": 57,
   "metadata": {
    "collapsed": false
   },
   "outputs": [],
   "source": [
    "uspop_handle = \"/Users/j.parker/data/databases/patent_data/uspo/uspto_prt.dat\"\n",
    "\n",
    "us_annots = []\n",
    "for annot in SeqIO.parse(annot_handle, \"embl\"):\n",
    "    us_annots.append(annot)"
   ]
  },
  {
   "cell_type": "code",
   "execution_count": 59,
   "metadata": {
    "collapsed": false
   },
   "outputs": [
    {
     "name": "stdout",
     "output_type": "stream",
     "text": [
      "ID: NRP001A2FB3\n",
      "Name: NRP001A2FB3\n",
      "Description: Sequence 8 from Patent WO0166565. Sequence 8 from patent US 7105341. Sequence 8 from patent US 7208571.\n",
      "Database cross-references: EPOP:AX249800:, USPOP:ABJ39141:, USPOP:ABT00979:\n",
      "Number of features: 0\n",
      "/data_file_division= NR2\n",
      "/comment=First level of publication supplied by the EPO\n",
      "First level of publication supplied by the EPO\n",
      "UnknownSeq(456, alphabet = IUPACProtein(), character = 'X')\n"
     ]
    }
   ],
   "source": [
    "a1 = annots[10]\n",
    "print (a1)"
   ]
  },
  {
   "cell_type": "code",
   "execution_count": 62,
   "metadata": {
    "collapsed": true
   },
   "outputs": [],
   "source": [
    "def extract_pns(annots, district=\"US\"):\n",
    "    \"\"\"\n",
    "    Extract patent numbers from the patent descriptions. \n",
    "    \"\"\"\n",
    "    pns = []\n",
    "    for annot in annots:\n",
    "        matches = re.findall(district+'\\s?\\d{7}', annot.description)\n",
    "        if matches:\n",
    "            for pn in matches:\n",
    "                pns.append(pn)\n",
    "    \n",
    "    return pns"
   ]
  },
  {
   "cell_type": "code",
   "execution_count": 63,
   "metadata": {
    "collapsed": false
   },
   "outputs": [],
   "source": [
    "pns = extract_pns(us_annots[:100])"
   ]
  },
  {
   "cell_type": "code",
   "execution_count": null,
   "metadata": {
    "collapsed": true
   },
   "outputs": [],
   "source": []
  }
 ],
 "metadata": {
  "kernelspec": {
   "display_name": "Python 3",
   "language": "python",
   "name": "python3"
  },
  "language_info": {
   "codemirror_mode": {
    "name": "ipython",
    "version": 3
   },
   "file_extension": ".py",
   "mimetype": "text/x-python",
   "name": "python",
   "nbconvert_exporter": "python",
   "pygments_lexer": "ipython3",
   "version": "3.5.2"
  }
 },
 "nbformat": 4,
 "nbformat_minor": 0
}
