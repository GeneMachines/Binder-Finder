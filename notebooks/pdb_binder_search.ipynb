{
 "cells": [
  {
   "cell_type": "code",
   "execution_count": 1,
   "metadata": {
    "collapsed": true
   },
   "outputs": [],
   "source": [
    "import pypdb\n",
    "import pandas as pd\n",
    "from pprint import pprint"
   ]
  },
  {
   "cell_type": "markdown",
   "metadata": {},
   "source": [
    "## Using pypdb\n",
    "getting information about a particular pdb entry:"
   ]
  },
  {
   "cell_type": "code",
   "execution_count": 2,
   "metadata": {
    "collapsed": false
   },
   "outputs": [
    {
     "data": {
      "text/plain": [
       "{'citation_authors': 'Vijay-Kumar, S., Bugg, C.E., Cook, W.J.',\n",
       " 'deposition_date': '1987-01-02',\n",
       " 'expMethod': 'X-RAY DIFFRACTION',\n",
       " 'keywords': 'CHROMOSOMAL PROTEIN',\n",
       " 'last_modification_date': '2011-03-09',\n",
       " 'nr_atoms': '602',\n",
       " 'nr_entities': '1',\n",
       " 'nr_residues': '76',\n",
       " 'pubmedId': '3041007',\n",
       " 'release_date': '1987-04-16',\n",
       " 'resolution': '1.80',\n",
       " 'status': 'CURRENT',\n",
       " 'structureId': '1UBQ',\n",
       " 'structure_authors': 'Vijay-Kumar, S., Bugg, C.E., Cook, W.J.',\n",
       " 'title': 'STRUCTURE OF UBIQUITIN REFINED AT 1.8 ANGSTROMS RESOLUTION'}"
      ]
     },
     "execution_count": 2,
     "metadata": {},
     "output_type": "execute_result"
    }
   ],
   "source": [
    "ubiq_id = \"1UBQ\"\n",
    "pypdb.describe_pdb(ubiq_id)"
   ]
  },
  {
   "cell_type": "markdown",
   "metadata": {},
   "source": [
    "make a keyword query:"
   ]
  },
  {
   "cell_type": "code",
   "execution_count": 77,
   "metadata": {
    "collapsed": false
   },
   "outputs": [
    {
     "name": "stdout",
     "output_type": "stream",
     "text": [
      "124\n"
     ]
    }
   ],
   "source": [
    "search_dict = pypdb.make_query(\"Progesterone\")\n",
    "found_pdbs = pypdb.do_search(search_dict)\n",
    "print (len(found_pdbs))"
   ]
  },
  {
   "cell_type": "markdown",
   "metadata": {},
   "source": [
    "now let's get some information about each of the hits:"
   ]
  },
  {
   "cell_type": "code",
   "execution_count": 78,
   "metadata": {
    "collapsed": false
   },
   "outputs": [
    {
     "name": "stdout",
     "output_type": "stream",
     "text": [
      "{'citation_authors': 'Williams, S.P., Sigler, P.B.',\n",
      " 'deposition_date': '1998-01-19',\n",
      " 'expMethod': 'X-RAY DIFFRACTION',\n",
      " 'keywords': 'PROGESTERONE RECEPTOR',\n",
      " 'last_modification_date': '2009-02-24',\n",
      " 'nr_atoms': '4082',\n",
      " 'nr_entities': '1',\n",
      " 'nr_residues': '512',\n",
      " 'pubmedId': '9620806',\n",
      " 'release_date': '1998-07-15',\n",
      " 'resolution': '1.80',\n",
      " 'status': 'CURRENT',\n",
      " 'structureId': '1A28',\n",
      " 'structure_authors': 'Sigler, P.B., Williams, S.P.',\n",
      " 'title': 'HORMONE-BOUND HUMAN PROGESTERONE RECEPTOR LIGAND-BINDING DOMAIN'}\n",
      "\n",
      "\n",
      "{'citation_authors': 'Tanenbaum, D.M., Wang, Y., Williams, S.P., Sigler, P.B.',\n",
      " 'deposition_date': '1998-02-19',\n",
      " 'expMethod': 'X-RAY DIFFRACTION',\n",
      " 'keywords': 'RECEPTOR',\n",
      " 'last_modification_date': '2011-11-16',\n",
      " 'nr_atoms': '3871',\n",
      " 'nr_entities': '1',\n",
      " 'nr_residues': '516',\n",
      " 'pubmedCentralId': 'PMC27574',\n",
      " 'pubmedId': '9600906',\n",
      " 'release_date': '1998-09-16',\n",
      " 'resolution': '2.80',\n",
      " 'status': 'CURRENT',\n",
      " 'structureId': '1A52',\n",
      " 'structure_authors': 'Tanenbaum, D.M., Wang, Y., Sigler, P.B.',\n",
      " 'title': 'ESTROGEN RECEPTOR ALPHA LIGAND-BINDING DOMAIN COMPLEXED TO '\n",
      "          'ESTRADIOL'}\n",
      "\n",
      "\n",
      "{'citation_authors': 'Arevalo, J.H., Stura, E.A., Taussig, M.J., Wilson, I.A.',\n",
      " 'deposition_date': '1992-11-10',\n",
      " 'expMethod': 'X-RAY DIFFRACTION',\n",
      " 'keywords': 'IMMUNOGLOBULIN',\n",
      " 'last_modification_date': '2009-08-25',\n",
      " 'nr_atoms': '3359',\n",
      " 'nr_entities': '2',\n",
      " 'nr_residues': '435',\n",
      " 'pubmedId': '8496956',\n",
      " 'release_date': '1993-10-31',\n",
      " 'resolution': '2.80',\n",
      " 'status': 'CURRENT',\n",
      " 'structureId': '1DBA',\n",
      " 'structure_authors': 'Arevalo, J.H., Wilson, I.A.',\n",
      " 'title': \"THREE-DIMENSIONAL STRUCTURE OF AN ANTI-STEROID FAB' AND \"\n",
      "          \"PROGESTERONE-FAB' COMPLEX\"}\n",
      "\n",
      "\n",
      "{'citation_authors': 'Arevalo, J.H., Stura, E.A., Taussig, M.J., Wilson, I.A.',\n",
      " 'deposition_date': '1992-11-11',\n",
      " 'expMethod': 'X-RAY DIFFRACTION',\n",
      " 'keywords': 'IMMUNOGLOBULIN',\n",
      " 'last_modification_date': '2009-08-25',\n",
      " 'nr_atoms': '3377',\n",
      " 'nr_entities': '2',\n",
      " 'nr_residues': '435',\n",
      " 'pubmedId': '8496956',\n",
      " 'release_date': '1993-10-31',\n",
      " 'resolution': '2.70',\n",
      " 'status': 'CURRENT',\n",
      " 'structureId': '1DBB',\n",
      " 'structure_authors': 'Arevalo, J.H., Wilson, I.A.',\n",
      " 'title': \"THREE-DIMENSIONAL STRUCTURE OF AN ANTI-STEROID FAB' AND \"\n",
      "          \"PROGESTERONE-FAB' COMPLEX\"}\n",
      "\n",
      "\n",
      "{'citation_authors': 'Arevalo, J.H., Taussig, M.J., Wilson, I.A.',\n",
      " 'deposition_date': '1993-08-24',\n",
      " 'expMethod': 'X-RAY DIFFRACTION',\n",
      " 'keywords': 'IMMUNOGLOBULIN',\n",
      " 'last_modification_date': '2009-08-25',\n",
      " 'nr_atoms': '3375',\n",
      " 'nr_entities': '2',\n",
      " 'nr_residues': '435',\n",
      " 'pubmedId': '8413674',\n",
      " 'release_date': '1994-01-31',\n",
      " 'resolution': '2.70',\n",
      " 'status': 'CURRENT',\n",
      " 'structureId': '1DBJ',\n",
      " 'structure_authors': 'Arevalo, J.H., Wilson, I.A.',\n",
      " 'title': 'MOLECULAR BASIS OF CROSS-REACTIVITY AND THE LIMITS OF '\n",
      "          'ANTIBODY-ANTIGEN COMPLEMENTARITY'}\n",
      "\n",
      "\n",
      "{'citation_authors': 'Arevalo, J.H., Taussig, M.J., Wilson, I.A.',\n",
      " 'deposition_date': '1993-08-24',\n",
      " 'expMethod': 'X-RAY DIFFRACTION',\n",
      " 'keywords': 'IMMUNOGLOBULIN',\n",
      " 'last_modification_date': '2009-08-25',\n",
      " 'nr_atoms': '3375',\n",
      " 'nr_entities': '2',\n",
      " 'nr_residues': '435',\n",
      " 'pubmedId': '8413674',\n",
      " 'release_date': '1994-01-31',\n",
      " 'resolution': '3.00',\n",
      " 'status': 'CURRENT',\n",
      " 'structureId': '1DBK',\n",
      " 'structure_authors': 'Arevalo, J.H., Wilson, I.A.',\n",
      " 'title': 'MOLECULAR BASIS OF CROSS-REACTIVITY AND THE LIMITS OF '\n",
      "          'ANTIBODY-ANTIGEN COMPLEMENTARITY'}\n",
      "\n",
      "\n",
      "{'citation_authors': 'Arevalo, J.H., Taussig, M.J., Wilson, I.A.',\n",
      " 'deposition_date': '1993-08-24',\n",
      " 'expMethod': 'X-RAY DIFFRACTION',\n",
      " 'keywords': 'IMMUNOGLOBULIN',\n",
      " 'last_modification_date': '2009-08-25',\n",
      " 'nr_atoms': '3385',\n",
      " 'nr_entities': '2',\n",
      " 'nr_residues': '435',\n",
      " 'pubmedId': '8413674',\n",
      " 'release_date': '1994-01-31',\n",
      " 'resolution': '2.70',\n",
      " 'status': 'CURRENT',\n",
      " 'structureId': '1DBM',\n",
      " 'structure_authors': 'Arevalo, J.H., Wilson, I.A.',\n",
      " 'title': 'MOLECULAR BASIS OF CROSS-REACTIVITY AND THE LIMITS OF '\n",
      "          'ANTIBODY-ANTIGEN COMPLEMENTARITY'}\n",
      "\n",
      "\n",
      "{'citation_authors': 'Williams, P.A., Cosme, J., Sridhar, V., Johnson, E.F., '\n",
      "                     'McRee, D.E.',\n",
      " 'deposition_date': '2000-01-11',\n",
      " 'expMethod': 'X-RAY DIFFRACTION',\n",
      " 'keywords': 'OXIDOREDUCTASE',\n",
      " 'last_modification_date': '2011-07-13',\n",
      " 'nr_atoms': '3648',\n",
      " 'nr_entities': '1',\n",
      " 'nr_residues': '473',\n",
      " 'pubmedId': '10678174',\n",
      " 'release_date': '2000-09-27',\n",
      " 'resolution': '3.00',\n",
      " 'status': 'CURRENT',\n",
      " 'structureId': '1DT6',\n",
      " 'structure_authors': 'Williams, P.A., Cosme, J., Sridhar, V., Johnson, E.F., '\n",
      "                      'McRee, D.E.',\n",
      " 'title': 'STRUCTURE OF MAMMALIAN CYTOCHROME P450 2C5'}\n",
      "\n",
      "\n",
      "{'citation_authors': 'Matias, P.M., Donner, P., Coelho, R., Thomaz, M., '\n",
      "                     'Peixoto, C., Macedo, S., Otto, N., Joschko, S., Scholz, '\n",
      "                     'P., Wegg, A., Basler, S., Schafer, M., Egner, U., '\n",
      "                     'Carrondo, M.A.',\n",
      " 'deposition_date': '2000-06-14',\n",
      " 'expMethod': 'X-RAY DIFFRACTION',\n",
      " 'keywords': 'ANDROGEN RECEPTOR',\n",
      " 'last_modification_date': '2009-02-24',\n",
      " 'nr_atoms': '2065',\n",
      " 'nr_entities': '1',\n",
      " 'nr_residues': '263',\n",
      " 'pubmedId': '10840043',\n",
      " 'relatedPDB': {...},\n",
      " 'release_date': '2001-06-14',\n",
      " 'resolution': '2.40',\n",
      " 'status': 'CURRENT',\n",
      " 'structureId': '1E3G',\n",
      " 'structure_authors': 'Matias, P.M., Donner, P., Coelho, R., Thomaz, M., '\n",
      "                      'Peixoto, C., Macedo, S., Otto, N., Joschko, S., Scholz, '\n",
      "                      'P., Wegg, A., Basler, S., Schafer, M., Ruff, M., Egner, '\n",
      "                      'U., Carrondo, M.A.',\n",
      " 'title': 'HUMAN ANDROGEN RECEPTOR LIGAND BINDING IN COMPLEX WITH THE LIGAND '\n",
      "          'METRIBOLONE (R1881)'}\n",
      "\n",
      "\n",
      "{'citation_authors': 'Matias, P.M., Donner, P., Coelho, R., Thomaz, M., '\n",
      "                     'Peixoto, C., Macedo, S., Otto, N., Joschko, S., Scholz, '\n",
      "                     'P., Wegg, A., Basler, S., Schafer, M., Egner, U., '\n",
      "                     'Carrondo, M.A.',\n",
      " 'deposition_date': '2000-06-19',\n",
      " 'expMethod': 'X-RAY DIFFRACTION',\n",
      " 'keywords': 'HUMAN PROGESTERONE RECEPTOR',\n",
      " 'last_modification_date': '2009-02-24',\n",
      " 'nr_atoms': '4069',\n",
      " 'nr_entities': '1',\n",
      " 'nr_residues': '516',\n",
      " 'pubmedId': '10840043',\n",
      " 'relatedPDB': {...},\n",
      " 'release_date': '2001-06-14',\n",
      " 'resolution': '2.80',\n",
      " 'status': 'CURRENT',\n",
      " 'structureId': '1E3K',\n",
      " 'structure_authors': 'Matias, P.M., Donner, P., Coelho, R., Thomaz, M., '\n",
      "                      'Peixoto, C., Macedo, S., Otto, N., Joschko, S., Scholz, '\n",
      "                      'P., Wegg, A., Basler, S., Schafer, M., Egner, U., '\n",
      "                      'Carrondo, M.A.',\n",
      " 'title': 'HUMAN PROGESTERON RECEPTOR LIGAND BINDING DOMAIN IN COMPLEX WITH '\n",
      "          'THE LIGAND METRIBOLONE (R1881)'}\n",
      "\n",
      "\n"
     ]
    }
   ],
   "source": [
    "for hit in found_pdbs[:10]:\n",
    "    pprint (pypdb.describe_pdb(hit), depth=1)\n",
    "    print (\"\\n\")"
   ]
  },
  {
   "cell_type": "code",
   "execution_count": 79,
   "metadata": {
    "collapsed": false
   },
   "outputs": [
    {
     "name": "stdout",
     "output_type": "stream",
     "text": [
      "['PF00104.26', 'PF00104.26', 'PF07686.13', 'PF07654.11', 'PF07686.13', 'PF07654.11', 'PF07686.13', 'PF07654.11', 'PF07686.13', 'PF07654.11', 'PF07686.13', 'PF07654.11', 'PF07686.13', 'PF07654.11', 'PF07686.13', 'PF07654.11', 'PF07686.13', 'PF07654.11', 'PF07686.13', 'PF07654.11', 'PF07686.13', 'PF07654.11', 'PF00067.18', 'PF00104.26', 'PF00104.26', 'PF04969.12', 'PF00724.16', 'PF00724.16', 'PF00724.16', 'PF00724.16', 'PF00724.16', 'PF00724.16', 'PF00724.16', 'PF00724.16', 'PF00173.24', 'PF00248.17', 'PF00067.18', 'PF00067.18', 'PF00236.14', 'PF00007.18', 'PF07686.13', 'PF07686.13', 'PF07686.13', 'PF07686.13', 'PF00104.26', 'PF00104.26', 'PF01099.13', 'PF01099.13', 'PF00724.16', 'PF00724.16', 'PF00724.16', 'PF00067.18', 'PF00067.18', 'PF00067.18', 'PF00104.26', 'PF00104.26', 'PF00104.26', 'PF00104.26', 'PF00104.26', 'PF00104.26', 'PF00104.26', 'PF00104.26', 'PF00724.16', 'PF00724.16', 'PF00105.14', 'PF07686.13', 'PF07654.11', 'PF07686.13', 'PF07654.11', 'PF08212.8', 'PF07686.13', 'PF07654.11', 'PF07686.13', 'PF07654.11', 'PF07686.13', 'PF07654.11', 'PF07686.13', 'PF07654.11', 'PF07686.13', 'PF07654.11', 'PF07686.13', 'PF07654.11', 'PF00104.26', 'PF00104.26', 'PF01370.17', 'PF01370.17', 'PF00104.26', 'PF00248.17', 'PF00248.17', 'PF00104.26', 'PF00104.26', 'PF00104.26', 'PF00104.26', 'PF00067.18', 'PF07686.13', 'PF07654.11', 'PF07686.13', 'PF07654.11', 'PF07686.13', 'PF07654.11', 'PF07686.13', 'PF07654.11', 'PF00254.24', 'PF00254.24', 'PF00254.24', 'PF00254.24', 'PF00254.24', 'PF00254.24', 'PF00254.24', 'PF00254.24', 'PF00254.24', 'PF00254.24', 'PF00254.24', 'PF00254.24', 'PF00254.24', 'PF00254.24', 'PF00104.26', 'PF00104.26', 'PF00104.26', 'PF00104.26', 'PF00104.26', 'PF00079.16', 'PF00079.16', 'PF00254.24', 'PF08771.7', 'PF00254.24', 'PF08771.7', 'PF00254.24', 'PF00254.24', 'PF00254.24', 'PF00254.24', 'PF00254.24', 'PF00254.24', 'PF00104.26', 'PF00104.26', 'PF00067.18', 'PF00067.18', 'PF00067.18', 'PF00067.18', 'PF00067.18', 'PF00067.18', 'PF00254.24', 'PF00254.24', 'PF00254.24', 'PF00254.24', 'PF00254.24', 'PF00248.17', 'PF00248.17', 'PF00104.26', 'PF00067.18', 'PF00104.26', 'PF00061.19', 'PF00254.24', 'PF00067.18', 'PF00254.24', 'PF00254.24', 'PF00254.24', 'PF00254.24', 'PF00254.24', 'PF00254.24', 'PF00173.25', 'PF00067.18', 'PF00067.19', 'PF00067.19', 'PF00254.25', 'PF00105.14', 'PF00254.24', 'PF00254.25', 'PF00254.25']\n"
     ]
    }
   ],
   "source": [
    "pfam_list = []\n",
    "for pdb in found_pdbs:\n",
    "    pfam_info = pypdb.get_pfam(pdb)\n",
    "    try:\n",
    "        pfam_dom = pfam_info['pfamHit']['@pfamAcc']\n",
    "        pfam_list.append(pfam_dom)\n",
    "    except TypeError:\n",
    "        for pfam in pfam_info['pfamHit']:\n",
    "            pfam_list.append(pfam['@pfamAcc'])\n",
    "    except KeyError:\n",
    "        pass\n",
    "    \n",
    "print (pfam_list)"
   ]
  },
  {
   "cell_type": "code",
   "execution_count": 80,
   "metadata": {
    "collapsed": false
   },
   "outputs": [
    {
     "name": "stdout",
     "output_type": "stream",
     "text": [
      "['PF00104', 'PF00104', 'PF07686', 'PF07654', 'PF07686', 'PF07654', 'PF07686', 'PF07654', 'PF07686', 'PF07654', 'PF07686', 'PF07654', 'PF07686', 'PF07654', 'PF07686', 'PF07654', 'PF07686', 'PF07654', 'PF07686', 'PF07654', 'PF07686', 'PF07654', 'PF00067', 'PF00104', 'PF00104', 'PF04969', 'PF00724', 'PF00724', 'PF00724', 'PF00724', 'PF00724', 'PF00724', 'PF00724', 'PF00724', 'PF00173', 'PF00248', 'PF00067', 'PF00067', 'PF00236', 'PF00007', 'PF07686', 'PF07686', 'PF07686', 'PF07686', 'PF00104', 'PF00104', 'PF01099', 'PF01099', 'PF00724', 'PF00724', 'PF00724', 'PF00067', 'PF00067', 'PF00067', 'PF00104', 'PF00104', 'PF00104', 'PF00104', 'PF00104', 'PF00104', 'PF00104', 'PF00104', 'PF00724', 'PF00724', 'PF00105', 'PF07686', 'PF07654', 'PF07686', 'PF07654', 'PF08212', 'PF07686', 'PF07654', 'PF07686', 'PF07654', 'PF07686', 'PF07654', 'PF07686', 'PF07654', 'PF07686', 'PF07654', 'PF07686', 'PF07654', 'PF00104', 'PF00104', 'PF01370', 'PF01370', 'PF00104', 'PF00248', 'PF00248', 'PF00104', 'PF00104', 'PF00104', 'PF00104', 'PF00067', 'PF07686', 'PF07654', 'PF07686', 'PF07654', 'PF07686', 'PF07654', 'PF07686', 'PF07654', 'PF00254', 'PF00254', 'PF00254', 'PF00254', 'PF00254', 'PF00254', 'PF00254', 'PF00254', 'PF00254', 'PF00254', 'PF00254', 'PF00254', 'PF00254', 'PF00254', 'PF00104', 'PF00104', 'PF00104', 'PF00104', 'PF00104', 'PF00079', 'PF00079', 'PF00254', 'PF08771', 'PF00254', 'PF08771', 'PF00254', 'PF00254', 'PF00254', 'PF00254', 'PF00254', 'PF00254', 'PF00104', 'PF00104', 'PF00067', 'PF00067', 'PF00067', 'PF00067', 'PF00067', 'PF00067', 'PF00254', 'PF00254', 'PF00254', 'PF00254', 'PF00254', 'PF00248', 'PF00248', 'PF00104', 'PF00067', 'PF00104', 'PF00061', 'PF00254', 'PF00067', 'PF00254', 'PF00254', 'PF00254', 'PF00254', 'PF00254', 'PF00254', 'PF00173', 'PF00067', 'PF00067', 'PF00067', 'PF00254', 'PF00105', 'PF00254', 'PF00254', 'PF00254']\n"
     ]
    }
   ],
   "source": [
    "print ([x.split('.')[0] for x in pfam_list])"
   ]
  },
  {
   "cell_type": "markdown",
   "metadata": {},
   "source": [
    "Let's try and use the output from an HMMER search of a VHH profile against PDB to narrow our search. "
   ]
  },
  {
   "cell_type": "code",
   "execution_count": 81,
   "metadata": {
    "collapsed": false
   },
   "outputs": [],
   "source": [
    "hmm_results = open(\"/Users/j.parker/working_dir/binder_filter/vhh/vhh_hmm_search_results.tsv\")\n",
    "df = pd.read_csv(hmm_results, delimiter=\"\\t\")\n",
    "vhh_pdbs = df[\"Mapped PDB(s)\"].tolist()"
   ]
  },
  {
   "cell_type": "code",
   "execution_count": 88,
   "metadata": {
    "collapsed": false
   },
   "outputs": [
    {
     "name": "stdout",
     "output_type": "stream",
     "text": [
      "162\n"
     ]
    }
   ],
   "source": [
    "print (len(vhh_pdbs))"
   ]
  },
  {
   "cell_type": "markdown",
   "metadata": {},
   "source": [
    "Check to see whether any of the VHH-like domains found using HMMER are contained in the search results."
   ]
  },
  {
   "cell_type": "code",
   "execution_count": 84,
   "metadata": {
    "collapsed": false
   },
   "outputs": [],
   "source": [
    "#clean up the pdb ids so they can be compared\n",
    "clean_pdbs = [x.split(\"_\")[0].upper() for x in vhh_pdbs]\n",
    "\n",
    "shared_ids = []\n",
    "for pdb in clean_pdbs:\n",
    "    if pdb in found_pdbs:\n",
    "        shared_ids.append(pdb)"
   ]
  },
  {
   "cell_type": "code",
   "execution_count": 90,
   "metadata": {
    "collapsed": false
   },
   "outputs": [
    {
     "name": "stdout",
     "output_type": "stream",
     "text": [
      "No matching pdb ids!\n"
     ]
    }
   ],
   "source": [
    "if len(shared_ids) > 0:\n",
    "    print (shared_ids)\n",
    "else:\n",
    "    print (\"No matching pdb ids!\")"
   ]
  },
  {
   "cell_type": "markdown",
   "metadata": {},
   "source": [
    "Oh no! It doesn't look like there are any matching ids.\n",
    "Let's try something a little different.\n",
    "\n",
    "## Keyword description test- osterone"
   ]
  },
  {
   "cell_type": "code",
   "execution_count": 91,
   "metadata": {
    "collapsed": false
   },
   "outputs": [
    {
     "name": "stdout",
     "output_type": "stream",
     "text": [
      "88\n"
     ]
    }
   ],
   "source": [
    "new_search = pypdb.make_query(\"testosterone\")\n",
    "search_results = pypdb.do_search(new_search)\n",
    "print (len(search_results))"
   ]
  },
  {
   "cell_type": "code",
   "execution_count": 137,
   "metadata": {
    "collapsed": false
   },
   "outputs": [],
   "source": [
    "pf_hits = []\n",
    "for pdb in search_results:\n",
    "    pfam_info = pypdb.get_pfam(pdb)\n",
    "    if pfam_info: # empty results will be skipped\n",
    "        pf_hits.append(pfam_info)"
   ]
  },
  {
   "cell_type": "code",
   "execution_count": 138,
   "metadata": {
    "collapsed": false
   },
   "outputs": [
    {
     "name": "stdout",
     "output_type": "stream",
     "text": [
      "{'pfamHit': {'@chainId': 'A',\n",
      "             '@eValue': '0.0',\n",
      "             '@pdbResNumEnd': '300',\n",
      "             '@pdbResNumStart': '19',\n",
      "             '@pfamAcc': 'PF00248.17',\n",
      "             '@pfamDesc': 'Aldo/keto reductase family',\n",
      "             '@pfamName': 'Aldo_ket_red',\n",
      "             '@structureId': '1AFS'}}\n",
      "\n",
      "*******\n",
      "\n",
      "{'pfamHit': [{'@chainId': 'L',\n",
      "              '@eValue': '1.1E-19',\n",
      "              '@pdbResNumEnd': '111',\n",
      "              '@pdbResNumStart': '6',\n",
      "              '@pfamAcc': 'PF07686.13',\n",
      "              '@pfamDesc': 'Immunoglobulin V-set domain',\n",
      "              '@pfamName': 'V-set',\n",
      "              '@structureId': '1I9I'},\n",
      "             {'@chainId': 'L',\n",
      "              '@eValue': '8.1E-24',\n",
      "              '@pdbResNumEnd': '210',\n",
      "              '@pdbResNumStart': '125',\n",
      "              '@pfamAcc': 'PF07654.11',\n",
      "              '@pfamDesc': 'Immunoglobulin C1-set domain',\n",
      "              '@pfamName': 'C1-set',\n",
      "              '@structureId': '1I9I'},\n",
      "             {'@chainId': 'H',\n",
      "              '@eValue': '8.8E-18',\n",
      "              '@pdbResNumEnd': '116',\n",
      "              '@pdbResNumStart': '12',\n",
      "              '@pfamAcc': 'PF07686.13',\n",
      "              '@pfamDesc': 'Immunoglobulin V-set domain',\n",
      "              '@pfamName': 'V-set',\n",
      "              '@structureId': '1I9I'},\n",
      "             {'@chainId': 'H',\n",
      "              '@eValue': '3.0E-18',\n",
      "              '@pdbResNumEnd': '210',\n",
      "              '@pdbResNumStart': '133',\n",
      "              '@pfamAcc': 'PF07654.11',\n",
      "              '@pfamDesc': 'Immunoglobulin C1-set domain',\n",
      "              '@pfamName': 'C1-set',\n",
      "              '@structureId': '1I9I'}]}\n",
      "\n",
      "*******\n",
      "\n",
      "{'pfamHit': [{'@chainId': 'L',\n",
      "              '@eValue': '1.1E-19',\n",
      "              '@pdbResNumEnd': '111',\n",
      "              '@pdbResNumStart': '6',\n",
      "              '@pfamAcc': 'PF07686.13',\n",
      "              '@pfamDesc': 'Immunoglobulin V-set domain',\n",
      "              '@pfamName': 'V-set',\n",
      "              '@structureId': '1I9J'},\n",
      "             {'@chainId': 'L',\n",
      "              '@eValue': '8.1E-24',\n",
      "              '@pdbResNumEnd': '210',\n",
      "              '@pdbResNumStart': '125',\n",
      "              '@pfamAcc': 'PF07654.11',\n",
      "              '@pfamDesc': 'Immunoglobulin C1-set domain',\n",
      "              '@pfamName': 'C1-set',\n",
      "              '@structureId': '1I9J'},\n",
      "             {'@chainId': 'H',\n",
      "              '@eValue': '8.8E-18',\n",
      "              '@pdbResNumEnd': '116',\n",
      "              '@pdbResNumStart': '12',\n",
      "              '@pfamAcc': 'PF07686.13',\n",
      "              '@pfamDesc': 'Immunoglobulin V-set domain',\n",
      "              '@pfamName': 'V-set',\n",
      "              '@structureId': '1I9J'},\n",
      "             {'@chainId': 'H',\n",
      "              '@eValue': '3.0E-18',\n",
      "              '@pdbResNumEnd': '210',\n",
      "              '@pdbResNumStart': '133',\n",
      "              '@pfamAcc': 'PF07654.11',\n",
      "              '@pfamDesc': 'Immunoglobulin C1-set domain',\n",
      "              '@pfamName': 'C1-set',\n",
      "              '@structureId': '1I9J'}]}\n",
      "\n",
      "*******\n",
      "\n",
      "{'pfamHit': {'@chainId': 'A',\n",
      "             '@eValue': '0.0',\n",
      "             '@pdbResNumEnd': '300',\n",
      "             '@pdbResNumStart': '19',\n",
      "             '@pfamAcc': 'PF00248.17',\n",
      "             '@pfamDesc': 'Aldo/keto reductase family',\n",
      "             '@pfamName': 'Aldo_ket_red',\n",
      "             '@structureId': '1J96'}}\n",
      "\n",
      "*******\n",
      "\n",
      "{'pfamHit': {'@chainId': 'A',\n",
      "             '@eValue': '1.1E-38',\n",
      "             '@pdbResNumEnd': '190',\n",
      "             '@pdbResNumStart': '4',\n",
      "             '@pfamAcc': 'PF00106.21',\n",
      "             '@pfamDesc': 'short chain dehydrogenase',\n",
      "             '@pfamName': 'adh_short',\n",
      "             '@structureId': '1JTV'}}\n",
      "\n",
      "*******\n",
      "\n"
     ]
    }
   ],
   "source": [
    "for hit in pf_hits[:5]:\n",
    "    pprint(hit)\n",
    "    print(\"\\n*******\\n\")"
   ]
  },
  {
   "cell_type": "code",
   "execution_count": 123,
   "metadata": {
    "collapsed": false
   },
   "outputs": [
    {
     "name": "stdout",
     "output_type": "stream",
     "text": [
      "1AFS\n",
      "Chain A:  Aldo/keto reductase family\n",
      "\n",
      "*******\n",
      "\n",
      "1I9I\n",
      "Chain L:  Immunoglobulin V-set domain\n",
      "Chain L:  Immunoglobulin C1-set domain\n",
      "Chain H:  Immunoglobulin V-set domain\n",
      "Chain H:  Immunoglobulin C1-set domain\n",
      "\n",
      "*******\n",
      "\n",
      "1I9J\n",
      "Chain L:  Immunoglobulin V-set domain\n",
      "Chain L:  Immunoglobulin C1-set domain\n",
      "Chain H:  Immunoglobulin V-set domain\n",
      "Chain H:  Immunoglobulin C1-set domain\n",
      "\n",
      "*******\n",
      "\n",
      "1J96\n",
      "Chain A:  Aldo/keto reductase family\n",
      "\n",
      "*******\n",
      "\n",
      "1JTV\n",
      "Chain A:  short chain dehydrogenase\n",
      "\n",
      "*******\n",
      "\n",
      "1L7T\n",
      "Chain L:  Immunoglobulin V-set domain\n",
      "Chain L:  Immunoglobulin C1-set domain\n",
      "Chain H:  Immunoglobulin V-set domain\n",
      "Chain H:  Immunoglobulin C1-set domain\n",
      "\n",
      "*******\n",
      "\n",
      "1Q13\n",
      "Chain A:  Aldo/keto reductase family\n",
      "\n",
      "*******\n",
      "\n",
      "1QYV\n",
      "Chain A:  short chain dehydrogenase\n",
      "\n",
      "*******\n",
      "\n",
      "1QYW\n",
      "Chain A:  short chain dehydrogenase\n",
      "\n",
      "*******\n",
      "\n",
      "1QYX\n",
      "Chain A:  short chain dehydrogenase\n",
      "\n",
      "*******\n",
      "\n"
     ]
    }
   ],
   "source": [
    "# extract pdb id, chain ids and pfam description\n",
    "\n",
    "for hit in pf_hits[:10]:\n",
    "    if type(hit['pfamHit']) == dict:\n",
    "        print (hit['pfamHit'][\"@structureId\"])\n",
    "        print (\"Chain\", hit['pfamHit'][\"@chainId\"] + \": \", hit['pfamHit'][\"@pfamDesc\"])\n",
    "    else:\n",
    "        print (hit['pfamHit'][0][\"@structureId\"])\n",
    "        for chain in (hit[\"pfamHit\"]):\n",
    "            print (\"Chain\", chain[\"@chainId\"] + \": \", chain[\"@pfamDesc\"])\n",
    "        \n",
    "    print (\"\\n*******\\n\")"
   ]
  },
  {
   "cell_type": "code",
   "execution_count": 139,
   "metadata": {
    "collapsed": false
   },
   "outputs": [],
   "source": [
    "# put above information into a dictionary\n",
    "\n",
    "descs = {}\n",
    "for hit in pf_hits:\n",
    "    if type(hit['pfamHit']) == dict:\n",
    "        ID = hit['pfamHit'][\"@structureId\"]\n",
    "        descs[ID] = [(hit['pfamHit'][\"@chainId\"], hit['pfamHit'][\"@pfamDesc\"])]\n",
    "    else:\n",
    "        ID = hit['pfamHit'][0][\"@structureId\"]\n",
    "        descs[ID] = []\n",
    "        for chain in (hit[\"pfamHit\"]):\n",
    "            descs[ID].append((chain[\"@chainId\"], chain[\"@pfamDesc\"]))\n"
   ]
  },
  {
   "cell_type": "code",
   "execution_count": 141,
   "metadata": {
    "collapsed": false
   },
   "outputs": [
    {
     "name": "stdout",
     "output_type": "stream",
     "text": [
      "{'1AFS': [('A', 'Aldo/keto reductase family')],\n",
      " '1I9I': [('L', 'Immunoglobulin V-set domain'),\n",
      "          ('L', 'Immunoglobulin C1-set domain'),\n",
      "          ('H', 'Immunoglobulin V-set domain'),\n",
      "          ('H', 'Immunoglobulin C1-set domain')],\n",
      " '1I9J': [('L', 'Immunoglobulin V-set domain'),\n",
      "          ('L', 'Immunoglobulin C1-set domain'),\n",
      "          ('H', 'Immunoglobulin V-set domain'),\n",
      "          ('H', 'Immunoglobulin C1-set domain')],\n",
      " '1J96': [('A', 'Aldo/keto reductase family')],\n",
      " '1JTV': [('A', 'short chain dehydrogenase')],\n",
      " '1L7T': [('L', 'Immunoglobulin V-set domain'),\n",
      "          ('L', 'Immunoglobulin C1-set domain'),\n",
      "          ('H', 'Immunoglobulin V-set domain'),\n",
      "          ('H', 'Immunoglobulin C1-set domain')],\n",
      " '1Q13': [('A', 'Aldo/keto reductase family')],\n",
      " '1QYV': [('A', 'short chain dehydrogenase')],\n",
      " '1QYW': [('A', 'short chain dehydrogenase')],\n",
      " '1QYX': [('A', 'short chain dehydrogenase')],\n",
      " '1T73': [('A', 'Ligand-binding domain of nuclear hormone receptor')],\n",
      " '1T74': [('A', 'Ligand-binding domain of nuclear hormone receptor')],\n",
      " '1T76': [('A', 'Ligand-binding domain of nuclear hormone receptor')],\n",
      " '1T79': [('A', 'Ligand-binding domain of nuclear hormone receptor')],\n",
      " '1T7F': [('A', 'Ligand-binding domain of nuclear hormone receptor')],\n",
      " '1T7M': [('A', 'Ligand-binding domain of nuclear hormone receptor')],\n",
      " '1T7R': [('A', 'Ligand-binding domain of nuclear hormone receptor')],\n",
      " '1T7T': [('A', 'Ligand-binding domain of nuclear hormone receptor')],\n",
      " '1VPO': [('L', 'Immunoglobulin V-set domain'),\n",
      "          ('L', 'Immunoglobulin C1-set domain'),\n",
      "          ('H', 'Immunoglobulin V-set domain'),\n",
      "          ('H', 'Immunoglobulin C1-set domain')],\n",
      " '2AM9': [('A', 'Ligand-binding domain of nuclear hormone receptor')],\n",
      " '2AMA': [('A', 'Ligand-binding domain of nuclear hormone receptor')],\n",
      " '2AMB': [('A', 'Ligand-binding domain of nuclear hormone receptor')],\n",
      " '2CBM': [('A', 'Neocarzinostatin family')],\n",
      " '2CBO': [('A', 'Neocarzinostatin family')],\n",
      " '2CBQ': [('A', 'Neocarzinostatin family')],\n",
      " '2CBT': [('A', 'Neocarzinostatin family')],\n",
      " '2IPF': [('A', 'Aldo/keto reductase family')],\n",
      " '2IPG': [('A', 'Aldo/keto reductase family')],\n",
      " '2IPJ': [('A', 'Aldo/keto reductase family')],\n",
      " '2Q7I': [('A', 'Ligand-binding domain of nuclear hormone receptor')],\n",
      " '2Q7J': [('A', 'Ligand-binding domain of nuclear hormone receptor')],\n",
      " '2Q7K': [('A', 'Ligand-binding domain of nuclear hormone receptor')],\n",
      " '2Q7L': [('A', 'Ligand-binding domain of nuclear hormone receptor')],\n",
      " '2YHD': [('A', 'Ligand-binding domain of nuclear hormone receptor')],\n",
      " '2YLO': [('A', 'Ligand-binding domain of nuclear hormone receptor')],\n",
      " '2YLP': [('A', 'Ligand-binding domain of nuclear hormone receptor')],\n",
      " '2YLQ': [('A', 'Ligand-binding domain of nuclear hormone receptor')],\n",
      " '3BUR': [('A', 'Aldo/keto reductase family')],\n",
      " '3BUV': [('A', 'Aldo/keto reductase family')],\n",
      " '3BV7': [('A', 'Aldo/keto reductase family')],\n",
      " '3CMF': [('A', 'Aldo/keto reductase family')],\n",
      " '3KDM': [('A', 'Immunoglobulin V-set domain'),\n",
      "          ('A', 'Immunoglobulin C1-set domain'),\n",
      "          ('B', 'Immunoglobulin V-set domain'),\n",
      "          ('B', 'Immunoglobulin C1-set domain')],\n",
      " '3R43': [('A', 'Aldo/keto reductase family')],\n",
      " '3R58': [('A', 'Aldo/keto reductase family')],\n",
      " '3R6I': [('A', 'Aldo/keto reductase family')],\n",
      " '3R7M': [('A', 'Aldo/keto reductase family')],\n",
      " '3R8G': [('A', 'Aldo/keto reductase family')],\n",
      " '3R8H': [('A', 'Aldo/keto reductase family')],\n",
      " '3R94': [('A', 'Aldo/keto reductase family')],\n",
      " '3RLJ': [('A', 'Ligand-binding domain of nuclear hormone receptor')],\n",
      " '3RLL': [('A', 'Ligand-binding domain of nuclear hormone receptor')],\n",
      " '3UFY': [('A', 'Aldo/keto reductase family')],\n",
      " '3UG8': [('A', 'Aldo/keto reductase family')],\n",
      " '3UGR': [('A', 'Aldo/keto reductase family')],\n",
      " '3UWE': [('A', 'Aldo/keto reductase family')],\n",
      " '3UZZ': [('A', 'Aldo/keto reductase family')],\n",
      " '3V49': [('A', 'Ligand-binding domain of nuclear hormone receptor')],\n",
      " '3V4A': [('A', 'Ligand-binding domain of nuclear hormone receptor')],\n",
      " '3ZQT': [('A', 'Ligand-binding domain of nuclear hormone receptor')],\n",
      " '4CQL': [('A', 'short chain dehydrogenase'),\n",
      "          ('B', 'short chain dehydrogenase')],\n",
      " '4CQM': [('A', 'short chain dehydrogenase'),\n",
      "          ('B', 'short chain dehydrogenase'),\n",
      "          ('D', 'short chain dehydrogenase')],\n",
      " '4DBS': [('A', 'Aldo/keto reductase family')],\n",
      " '4DBU': [('A', 'Aldo/keto reductase family')],\n",
      " '4DBW': [('A', 'Aldo/keto reductase family')],\n",
      " '4DZ5': [('A', 'Aldo/keto reductase family')],\n",
      " '4FA3': [('A', 'Aldo/keto reductase family')],\n",
      " '4FAL': [('A', 'Aldo/keto reductase family')],\n",
      " '4FAM': [('A', 'Aldo/keto reductase family')],\n",
      " '4H7C': [('A', 'Aldo/keto reductase family')],\n",
      " '4HLW': [('A', 'Ligand-binding domain of nuclear hormone receptor')],\n",
      " '4HMN': [('A', 'Aldo/keto reductase family')],\n",
      " '4J6D': [('A', 'Cytochrome P450'), ('A', 'Cytochrome P450')],\n",
      " '4JBT': [('A', 'Cytochrome P450'), ('A', 'Cytochrome P450')],\n",
      " '4WDT': [('A', 'Aldo/keto reductase family')],\n",
      " '4WDU': [('A', 'Aldo/keto reductase family')],\n",
      " '4WDW': [('A', 'Aldo/keto reductase family')],\n",
      " '4WDX': [('A', 'Aldo/keto reductase family')],\n",
      " '4WRH': [('A', 'Aldo/keto reductase family'),\n",
      "          ('A', 'Aldo/keto reductase family')],\n",
      " '4XVD': [('A', 'Aldo/keto reductase family')],\n",
      " '4XVE': [('A', 'Aldo/keto reductase family')],\n",
      " '4YVV': [('A', 'Aldo/keto reductase family')],\n",
      " '4YVX': [('A', 'Aldo/keto reductase family')],\n",
      " '4ZFC': [('A', 'Aldo/keto reductase family')],\n",
      " '5HNU': [('A', 'Aldo/keto reductase family')],\n",
      " '5JKW': [('A', 'Cytochrome P450')],\n",
      " '5JM5': [('A', 'Aldo/keto reductase family')],\n",
      " '5L94': [('A', 'Cytochrome P450')]}\n"
     ]
    }
   ],
   "source": [
    "pprint (descs)"
   ]
  },
  {
   "cell_type": "code",
   "execution_count": null,
   "metadata": {
    "collapsed": true
   },
   "outputs": [],
   "source": []
  }
 ],
 "metadata": {
  "kernelspec": {
   "display_name": "Python 3",
   "language": "python",
   "name": "python3"
  },
  "language_info": {
   "codemirror_mode": {
    "name": "ipython",
    "version": 3
   },
   "file_extension": ".py",
   "mimetype": "text/x-python",
   "name": "python",
   "nbconvert_exporter": "python",
   "pygments_lexer": "ipython3",
   "version": "3.5.2"
  }
 },
 "nbformat": 4,
 "nbformat_minor": 0
}
